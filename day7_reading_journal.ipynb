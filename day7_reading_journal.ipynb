{
 "cells": [
  {
   "cell_type": "markdown",
   "metadata": {},
   "source": [
    "# Day 7 Reading Journal\n",
    "\n",
    "This journal includes several required exercises, but it is meant to encourage active reading more generally.  You should use the journal to take detailed notes, catalog questions, and explore the content from Think Python deeply.\n",
    "\n",
    "Reading: Think Python Chapter 11, 12\n",
    "\n",
    "**Due: Thursday, February 18 at 12 noon**\n",
    "\n"
   ]
  },
  {
   "cell_type": "markdown",
   "metadata": {},
   "source": [
    "## [Chapter 11](http://www.greenteapress.com/thinkpython/html/thinkpython012.html)\n"
   ]
  },
  {
   "cell_type": "markdown",
   "metadata": {},
   "source": [
    "Chapter 11 Note:\n",
    "* Dictionaries\n",
    "\n",
    "    ** a more general list where the indicies dono't have to be integers\n",
    "    ** keys\n",
    "        *** indicies\n",
    "        *** maps to a value\n",
    "        *** key-value pair or item\n",
    "    ** empty dictionary = {}\n",
    "    ** use [] to add things to a dictionary \n",
    "    ** order of items inside a dictionary is unpredictable\n",
    "        *** Not a problem because doesn't index chronologicaly \n",
    "    ** can use as a counter\n",
    "        *** histogram = statistical term for a set of counters\n",
    "    ** lookup\n",
    "        *** finding the value when you have the key\n",
    "        *** what about finding key when you have the value\n",
    "    ** Memos\n",
    "        *** reviously computed value that is stored for later use \n",
    "            in a dictionary\n",
    "        *** can speed up running time"
   ]
  },
  {
   "cell_type": "markdown",
   "metadata": {},
   "source": [
    "**Quick check:** In about one sentence using your own words, what is a dictionary?"
   ]
  },
  {
   "cell_type": "markdown",
   "metadata": {},
   "source": [
    "A dictionary is kinda like a list but you can use anything to index it. It can relate one thing to another.  "
   ]
  },
  {
   "cell_type": "markdown",
   "metadata": {
    "is_question": true,
    "problem": "Exercise 11.2"
   },
   "source": [
    "### Exercise 2  \n",
    "\n",
    "Dictionaries have a [method called `get`](https://docs.python.org/2/library/stdtypes.html#mapping-types-dict) that takes a key and a default value. If the key appears in the dictionary, `get` returns the corresponding value; otherwise it returns the default value. For example:\n",
    "\n",
    "```\n",
    ">>> h = histogram('a')\n",
    ">>> print h\n",
    "{'a': 1}\n",
    ">>> h.get('a', 0)\n",
    "1\n",
    ">>> h.get('b', 0)\n",
    "0\n",
    "```\n",
    "\n",
    "Use `get` to write `histogram` more concisely. You should be able to eliminate the `if` statement. Add unit tests for your histogram implementation."
   ]
  },
  {
   "cell_type": "code",
   "execution_count": 2,
   "metadata": {
    "collapsed": false,
    "scrolled": true,
    "solution": "Exercise 11.2"
   },
   "outputs": [
    {
     "name": "stdout",
     "output_type": "stream",
     "text": [
      "{'e': 1, 'g': 1, 'i': 1, 'h': 1, 'm': 1, 'o': 1, 'n': 1, 's': 1, 't': 1}\n",
      "{'o': 1, 'w': 2}\n",
      "{'r': 6, 'g': 1}\n",
      "{'e': 1, 'g': 1, 'i': 1, 'h': 1, 'm': 1, 'o': 1, 'n': 1, 's': 1, 't': 1}\n",
      "{'o': 1, 'w': 2}\n",
      "{'r': 6, 'g': 1}\n"
     ]
    }
   ],
   "source": [
    "def histogram(s):\n",
    "    d = dict()\n",
    "    for c in s:\n",
    "        if c not in d:\n",
    "            d[c] = 1\n",
    "        else:\n",
    "            d[c] += 1\n",
    "    return d\n",
    "def histogram_testing_get(s):\n",
    "    d = dict()\n",
    "    for c in s:\n",
    "        d[c] = 1 + d.get(c, 0)\n",
    "    return d\n",
    "\n",
    "print histogram('something')\n",
    "print histogram('wow')\n",
    "print histogram('grrrrrr')\n",
    "print histogram_testing_get('something')\n",
    "print histogram_testing_get('wow')\n",
    "print histogram_testing_get('grrrrrr')"
   ]
  },
  {
   "cell_type": "markdown",
   "metadata": {
    "is_question": true,
    "problem": "Exercise 11.4"
   },
   "source": [
    "### Exercise 4  \n",
    "\n",
    "Modify `reverse_lookup` so that it builds and returns a list of all keys that map to `v`, or an empty list if there are none. Add unit tests for your implementation."
   ]
  },
  {
   "cell_type": "code",
   "execution_count": 19,
   "metadata": {
    "collapsed": false,
    "solution": "Exercise 11.4"
   },
   "outputs": [
    {
     "name": "stdout",
     "output_type": "stream",
     "text": [
      "['s', 'r', 'l']\n",
      "['e', 't']\n",
      "[]\n"
     ]
    }
   ],
   "source": [
    "def reverse_lookup(d, v):\n",
    "    res = []\n",
    "    for k in d:\n",
    "        if d[k] == v:\n",
    "            res.append(k)\n",
    "    return res\n",
    "\n",
    "print reverse_lookup(create_dictionary('letters'), 1)\n",
    "print reverse_lookup(create_dictionary('letters'), 2)\n",
    "print reverse_lookup(create_dictionary('letters'), 3)"
   ]
  },
  {
   "cell_type": "markdown",
   "metadata": {},
   "source": [
    "If you'd like to learn more about errors and exceptions, you can check out the [Python tutorial](https://docs.python.org/2/tutorial/errors.html) or read ahead to [Appendix A](http://www.greenteapress.com/thinkpython/html/thinkpython021.html) of Think Python. If you choose to use doctest for your unit testing, it can also [deal with exceptions](https://docs.python.org/2/library/doctest.html#what-about-exceptions)."
   ]
  },
  {
   "cell_type": "markdown",
   "metadata": {},
   "source": [
    "**Quick check** What type of objects can be used as keys to a dictionary, i.e. what property must they have?"
   ]
  },
  {
   "cell_type": "markdown",
   "metadata": {},
   "source": [
    "Tuples are used as dictionary keys.  "
   ]
  },
  {
   "cell_type": "markdown",
   "metadata": {
    "is_question": true,
    "problem": "Exercise 11.6"
   },
   "source": [
    "### Exercise 6 (modified)\n",
    "\n",
    "Create a memoized version of your Levenshtein distance function from Day 7. What kind of performance change do you see?\n",
    "\n",
    "Optional: If you'd like to get some quantitative results, you could check out the [timeit](https://docs.python.org/2/library/timeit.html) module\n",
    "\n",
    "Note: You can also study Fibonacci here if you prefer."
   ]
  },
  {
   "cell_type": "code",
   "execution_count": 9,
   "metadata": {
    "collapsed": false,
    "solution": "Exercise 11.6"
   },
   "outputs": [
    {
     "name": "stdout",
     "output_type": "stream",
     "text": [
      "0\n",
      "1\n",
      "2\n",
      "5\n"
     ]
    }
   ],
   "source": [
    "def memorized_levenshtein(a, b, cache):\n",
    "    if a == \"\":\n",
    "        return len(b)\n",
    "    elif b == \"\":\n",
    "        return len(a)\n",
    "    elif (a, b) in cache:\n",
    "        return cache[(a, b)]\n",
    "    elif a == b:\n",
    "        return 0\n",
    "    elif a[0] == b[0]:\n",
    "        option1 = memorized_levenshtein(a[1:], b[1:], cache)\n",
    "    else:\n",
    "        option1 = 1 + memorized_levenshtein(a[1:], b[1:], cache)\n",
    "    option2 = 1 + memorized_levenshtein(a[1:], b, cache)\n",
    "    option3 = 1 + memorized_levenshtein(a, b[1:], cache)\n",
    "    res = min(option1, option2, option3)\n",
    "    return res\n",
    "print memorized_levenshtein('hello', 'hello', {})\n",
    "print memorized_levenshtein('hello', 'bello', {})\n",
    "print memorized_levenshtein('hello', 'helga', {})\n",
    "print memorized_levenshtein('hello', 'what', {})"
   ]
  },
  {
   "cell_type": "markdown",
   "metadata": {},
   "source": [
    "## [Chapter 12](http://www.greenteapress.com/thinkpython/html/thinkpython013.html)\n",
    "\n",
    "**Quick check:** In about one sentence using your own words, what is a tuple?"
   ]
  },
  {
   "cell_type": "markdown",
   "metadata": {},
   "source": [
    "A tuple is similar to a list but immutable  "
   ]
  },
  {
   "cell_type": "markdown",
   "metadata": {},
   "source": [
    "Chapter 12 Note:\n",
    "\n",
    "* Tuples\n",
    "    ** sequence of values\n",
    "    ** indexed with integers \n",
    "    ** immutable\n",
    "    ** makes it easier to switch the values of two variables\n",
    "    ** can be used with dictionaries\n",
    "        *** items returns a list of tuples\n",
    "        *** each returned tuple  is a key-value pair\n",
    "        *** can be used to initialize a new dictionary    "
   ]
  },
  {
   "cell_type": "markdown",
   "metadata": {
    "is_question": true,
    "problem": "Exercise 12.1"
   },
   "source": [
    "### Exercise 1  \n",
    "\n",
    "Many of the built-in functions use variable-length argument tuples. For example, `max` and `min` can take any number of arguments:\n",
    "\n",
    "```\n",
    ">>> max(1,2,3)\n",
    "3\n",
    "```\n",
    "\n",
    "But `sum` does not.\n",
    "\n",
    "```\n",
    ">>> sum(1,2,3)\n",
    "TypeError: sum expected at most 2 arguments, got 3\n",
    "```\n",
    "\n",
    "Write a function called ```sumall``` that takes any number of arguments and returns their sum. \n",
    "\n",
    "Write unit tests for your function. Do I actually need to keep saying this? Let's assume it's always a good idea :)"
   ]
  },
  {
   "cell_type": "code",
   "execution_count": 5,
   "metadata": {
    "collapsed": false,
    "scrolled": true,
    "solution": "Exercise 12.1"
   },
   "outputs": [
    {
     "name": "stdout",
     "output_type": "stream",
     "text": [
      "6\n",
      "40\n",
      "1.0\n",
      "40.0\n"
     ]
    }
   ],
   "source": [
    "def summall(*arguments):\n",
    "    return sum(arguments)\n",
    "\n",
    "print summall(1, 2, 3)\n",
    "print summall(10, 20, 4, 6)\n",
    "print summall(.3, .7)\n",
    "print summall(10, 20.0, 4, 6)"
   ]
  },
  {
   "cell_type": "markdown",
   "metadata": {},
   "source": [
    "If you're interested in more flexible ways to pass arguments to functions, check out the [Python tutorial](https://docs.python.org/2/tutorial/controlflow.html#more-on-defining-functions). For instance, you can also use keyword arguments, which are collected into a dictionary just like `*` gathers variable numbers of positional arguments into a tuple.\n",
    "\n",
    "This pattern is very common for defining functions with complex optional behaviors in Python, and you will often see definitions like:\n",
    "\n",
    "```\n",
    "def my_func(required_argument1, *arguments, **keywords):\n",
    "    ...\n",
    "```"
   ]
  },
  {
   "cell_type": "markdown",
   "metadata": {
    "is_question": true,
    "problem": "Exercise 12 sort"
   },
   "source": [
    "### Exercise\n",
    "\n",
    "Write a function `sort_by_last_letter` that takes a list of words and returns a new list with the words sorted alphabetically by the _last letter_ in the word. Hint: use the **Decorate, Sort, Undecorate** pattern. Write unit tests for your function."
   ]
  },
  {
   "cell_type": "code",
   "execution_count": 15,
   "metadata": {
    "collapsed": false,
    "solution": "Exercise 12 sort"
   },
   "outputs": [
    {
     "name": "stdout",
     "output_type": "stream",
     "text": [
      "['are', 'hello', 'you', 'how']\n",
      "['adele', 'thanks']\n",
      "['pow', 'wow']\n"
     ]
    }
   ],
   "source": [
    "def sort_by_last_letter(words_list):\n",
    "    new_list = []\n",
    "    for word in words_list:\n",
    "        new_list.append((word[-1], word))\n",
    "    new_list.sort()\n",
    "    \n",
    "    final_list = []\n",
    "    for last, word in new_list:\n",
    "        final_list.append(word)\n",
    "    return final_list\n",
    "\n",
    "print sort_by_last_letter(['hello', 'how', 'are', 'you'])\n",
    "print sort_by_last_letter(['thanks', 'adele'])\n",
    "print sort_by_last_letter(['wow', 'pow'])"
   ]
  },
  {
   "cell_type": "markdown",
   "metadata": {},
   "source": [
    "**Quick check** Give an example of when you might use each sequence type:\n",
    "\n",
    "- tuple\n",
    "\n",
    "- list\n",
    "\n",
    "- string"
   ]
  },
  {
   "cell_type": "markdown",
   "metadata": {},
   "source": [
    "Tuple - used with dictionaries\n",
    "List - when you have multiple strings\n",
    "String - assaigning variables"
   ]
  },
  {
   "cell_type": "markdown",
   "metadata": {
    "is_question": true,
    "problem": "Exercise 12.3"
   },
   "source": [
    "### Exercise 3  \n",
    "\n",
    "Write a function called `most_frequent` that takes a string and prints the letters in decreasing order of frequency. Find text samples from several different languages and see how letter frequency varies between languages. Compare your results with the tables at http://en.wikipedia.org/wiki/Letter_frequencies. \n",
    "\n",
    "Allen's solution (try it on your own first): http://thinkpython.com/code/most_frequent.py. "
   ]
  },
  {
   "cell_type": "code",
   "execution_count": 21,
   "metadata": {
    "collapsed": false,
    "scrolled": true,
    "solution": "Exercise 12.3"
   },
   "outputs": [
    {
     "name": "stdout",
     "output_type": "stream",
     "text": [
      "English\n",
      "l 2\n",
      "o 1\n",
      "h 1\n",
      "e 1\n",
      "Spanish\n",
      "o 1\n",
      "l 1\n",
      "h 1\n",
      "a 1\n",
      "French\n",
      "u 1\n",
      "t 1\n",
      "s 1\n",
      "l 1\n",
      "a 1\n",
      "Hungarian\n",
      "o 2\n",
      "z 1\n",
      "v 1\n",
      "u 1\n",
      "m 1\n",
      "l 1\n",
      "d 1\n",
      "Does a sentence work?\n",
      "s 8\n",
      "l 6\n",
      "e 6\n",
      "h 3\n",
      "a 3\n",
      "y 2\n",
      "t 1\n",
      "r 1\n",
      "o 1\n",
      "b 1\n"
     ]
    }
   ],
   "source": [
    "def most_frequent(string):\n",
    "    letters = [letter.lower() for letter in string if letter.isalpha()]\n",
    "    dictionary = create_dictionary(letters)\n",
    "    res = []\n",
    "    for key in dictionary:\n",
    "        res.append((dictionary[key], key))\n",
    "    res.sort(reverse=True)\n",
    "    for count, letter in res:\n",
    "        print letter, count\n",
    "        \n",
    "print 'English'\n",
    "most_frequent('hello') \n",
    "print 'Spanish'\n",
    "most_frequent('hola')\n",
    "print 'French'\n",
    "most_frequent('salut') \n",
    "print 'Hungarian'\n",
    "most_frequent('udvozlom')\n",
    "print 'Does a sentence work?'\n",
    "most_frequent('sally sells seashells by the seashore')"
   ]
  },
  {
   "cell_type": "markdown",
   "metadata": {
    "is_question": true,
    "problem": "Exercise 12.6"
   },
   "source": [
    "### Challenge: Exercise 6   (optional)\n",
    "\n",
    "From a [Car Talk Puzzler](http://www.cartalk.com/content/puzzlers):\n",
    "\n",
    "What is the longest English word, that remains a valid English word, as you remove its letters one at a time?\n",
    "\n",
    "Now, letters can be removed from either end, or the middle, but you can’t rearrange any of the letters. Every time you drop a letter, you wind up with another English word. If you do that, you’re eventually going to wind up with one letter and that too is going to be an English word—one that’s found in the dictionary. I want to know what’s the longest word and how many letters does it have?\n",
    "\n",
    "I’m going to give you a little modest example: Sprite. Ok? You start off with sprite, you take a letter off, one from the interior of the word, take the r away, and we’re left with the word spite, then we take the e off the end, we’re left with spit, we take the s off, we’re left with pit, it, and I. \n",
    "\n",
    "Write a program to find all words that can be reduced in this way, and then find the longest one.\n",
    "\n",
    "This exercise is a little more challenging than most, so here are some suggestions:\n",
    "\n",
    "- You might want to write a function that takes a word and computes a list of all the words that can be formed by removing one letter. These are the “children” of the word.\n",
    "- Recursively, a word is reducible if any of its children are reducible. As a base case, you can consider the empty string reducible.\n",
    "- The word list from [Chapter 9.1](http://www.greenteapress.com/thinkpython/html/thinkpython010.html) Exercise 1 doesn’t contain single letter words. So you might want to add “I”, “a”, and the empty string.\n",
    "- To improve the performance of your program, you might want to memoize the words that are known to be reducible.\n",
    "\n",
    "Allen's solution: http://thinkpython.com/code/reducible.py."
   ]
  },
  {
   "cell_type": "code",
   "execution_count": null,
   "metadata": {
    "collapsed": true,
    "solution": "Exercise 12.6"
   },
   "outputs": [],
   "source": []
  },
  {
   "cell_type": "markdown",
   "metadata": {
    "is_question": true,
    "problem": "Feedback"
   },
   "source": [
    "## Reading Journal feedback\n",
    "\n",
    "Have any comments on this Reading Journal? Feel free to leave them below and we'll read them when you submit your journal entry. This could include suggestions to improve the exercises, topics you'd like to see covered in class next time, or other feedback.\n",
    "\n",
    "If you have Python questions or run into problems while completing the reading, you should post them to Piazza instead so you can get a quick response before your journal is submitted."
   ]
  },
  {
   "cell_type": "markdown",
   "metadata": {
    "feedback_response": true,
    "solution": "Feedback"
   },
   "source": [
    " "
   ]
  }
 ],
 "metadata": {
  "celltoolbar": "Edit Metadata",
  "kernelspec": {
   "display_name": "Python 2",
   "language": "python",
   "name": "python2"
  },
  "language_info": {
   "codemirror_mode": {
    "name": "ipython",
    "version": 2
   },
   "file_extension": ".py",
   "mimetype": "text/x-python",
   "name": "python",
   "nbconvert_exporter": "python",
   "pygments_lexer": "ipython2",
   "version": "2.7.6"
  }
 },
 "nbformat": 4,
 "nbformat_minor": 0
}
